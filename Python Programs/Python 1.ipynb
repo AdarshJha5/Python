{
 "cells": [
  {
   "cell_type": "markdown",
   "metadata": {},
   "source": [
    "NUMBERS"
   ]
  },
  {
   "cell_type": "code",
   "execution_count": 48,
   "metadata": {},
   "outputs": [
    {
     "name": "stdout",
     "output_type": "stream",
     "text": [
      "4\n",
      "5.666666666666667\n",
      "5\n",
      "2\n",
      "25\n",
      "14\n",
      "<class 'complex'>\n"
     ]
    }
   ],
   "source": [
    "print(2+2)\n",
    "print(17/3) # returns float value\n",
    "print(17//3) # floor division discards the fractional part\n",
    "print(17%3) # returns the remainder\n",
    "print(5**2) # 5 squared\n",
    "print(2*7) # 2 ro the power 7\n",
    "print(type(5+1j))\n"
   ]
  },
  {
   "cell_type": "code",
   "execution_count": 45,
   "metadata": {},
   "outputs": [
    {
     "data": {
      "text/plain": [
       "113.06"
      ]
     },
     "execution_count": 45,
     "metadata": {},
     "output_type": "execute_result"
    }
   ],
   "source": [
    "# In interactive mode, the last printed expression is assigned to the variable _\n",
    "tax = 12.5/100\n",
    "price = 100.50\n",
    "price*tax\n",
    "price + _\n",
    "round(_,2)"
   ]
  },
  {
   "cell_type": "markdown",
   "metadata": {},
   "source": [
    "STRINGS\n",
    "Python strings cannot be changed — they are immutable.\n",
    "\n",
    "Immutable:\n",
    "An object with a fixed value. Immutable objects include numbers, strings and tuples. Such an object cannot be altered. A new object has to be created if a different value has to be stored. They play an important role in places where a constant hash value is needed, for example as a key in a dictionary.\n"
   ]
  },
  {
   "cell_type": "code",
   "execution_count": 56,
   "metadata": {},
   "outputs": [
    {
     "name": "stdout",
     "output_type": "stream",
     "text": [
      "doesn't\n",
      "doesn't\n",
      "\"Yes,\" they said\n",
      "\"Yes,\" they said\n",
      "\"isn't,\" they said\n"
     ]
    }
   ],
   "source": [
    "# To quote a quote, we need to “escape” it, by preceding it with \\. Alternatively, we can use the other type of quotation marks:\n",
    "print('doesn\\'t')\n",
    "print(\"doesn't\")\n",
    "print('\"Yes,\" they said')\n",
    "print(\"\\\"Yes,\\\" they said\")\n",
    "print('\"isn\\'t,\" they said')"
   ]
  },
  {
   "cell_type": "code",
   "execution_count": 60,
   "metadata": {},
   "outputs": [
    {
     "name": "stdout",
     "output_type": "stream",
     "text": [
      "First Line.\n",
      "Second Line.\n"
     ]
    }
   ],
   "source": [
    "s = 'First Line.\\nSecond Line.'\n",
    "s\n",
    "print(s)"
   ]
  },
  {
   "cell_type": "code",
   "execution_count": 63,
   "metadata": {},
   "outputs": [
    {
     "name": "stdout",
     "output_type": "stream",
     "text": [
      "C:\\some\\name\n"
     ]
    }
   ],
   "source": [
    "# If you don’t want characters prefaced by \\ to be interpreted as special characters, you can use raw strings by adding an r before \n",
    "#the first quote:\n",
    "\n",
    "#print('C:\\some\\name') # here \\n means new line\n",
    "print(r'C:\\some\\name') # note the r before the quote\n",
    "\n"
   ]
  },
  {
   "cell_type": "code",
   "execution_count": 65,
   "metadata": {},
   "outputs": [
    {
     "name": "stdout",
     "output_type": "stream",
     "text": [
      "Usage: things[OPTIONS]\n",
      "      -h                Display this usage message\n",
      "      -H                Hostname to connect to\n",
      "      \n"
     ]
    }
   ],
   "source": [
    "\n",
    "#String literals can span multiple lines. One way is using triple-quotes: \"\"\"...\"\"\" or '''...'''. \n",
    "#End of lines are automatically included in the string, but it’s possible to prevent this by adding a \\ at the end of the line. \n",
    "\n",
    "\n",
    "print(\"\"\"\\\n",
    "Usage: things[OPTIONS]\n",
    "      -h                Display this usage message\n",
    "      -H                Hostname to connect to\n",
    "      \"\"\")"
   ]
  },
  {
   "cell_type": "code",
   "execution_count": 70,
   "metadata": {},
   "outputs": [
    {
     "name": "stdout",
     "output_type": "stream",
     "text": [
      "unununium\n",
      "Python\n",
      "Put several strinsg within parathesesto have them joined together\n",
      "Python\n"
     ]
    }
   ],
   "source": [
    "#Strings can be concatenated (glued together) with the + operator, and repeated with *:\n",
    "print(3 * 'un' + 'ium')\n",
    "print('Py' + 'thon')\n",
    "text = ('Put several strinsg within paratheses'\n",
    "        'to have them joined together')\n",
    "print(text) \n",
    "prefix = \"Py\"\n",
    "print(prefix + 'thon')"
   ]
  },
  {
   "cell_type": "code",
   "execution_count": 81,
   "metadata": {},
   "outputs": [
    {
     "name": "stdout",
     "output_type": "stream",
     "text": [
      "P\n",
      "n\n",
      "n\n",
      "o\n",
      "P\n"
     ]
    }
   ],
   "source": [
    "# Strings can be indexed (subscripted), with the first character having index 0.\n",
    "# There is no separate character type; a character is simply a string of size one\n",
    "\n",
    "word = \"Python\"\n",
    "print(word[0]) # caharcter in position 0\n",
    "print(word[5]) # character in position 5\n",
    "\n",
    "# Indices may also be negative numbers, to start counting from the right:\n",
    "\n",
    "print(word[-1]) # last caharcter\n",
    "print(word[-2]) # second last character\n",
    "print(word[-6]) # First Charcter\n",
    "\n",
    "\n"
   ]
  },
  {
   "cell_type": "code",
   "execution_count": 87,
   "metadata": {},
   "outputs": [
    {
     "name": "stdout",
     "output_type": "stream",
     "text": [
      "Py\n",
      "tho\n",
      "Py\n",
      "on\n",
      "on\n",
      "Pyt\n"
     ]
    }
   ],
   "source": [
    "# In addition to indexing, slicing is also supported. \n",
    "# While indexing is used to obtain individual characters, slicing allows you to obtain a substring:\n",
    "\n",
    "word = 'Python'\n",
    "print(word[0:2]) # caharacters from position 0 (included) to position 2 (excluded)\n",
    "print(word[2:5]) # caharcters from position 2 (included) to position 5(excluded)\n",
    "\n",
    "print(word[:2]) # caharcter from beginning to posiyion 2 (excluded)\n",
    "print(word[4:]) # characters from position 4(included) to the end\n",
    "print(word[-2:]) # caharcters from second last (included) to the end\n",
    "print(word[:-3])"
   ]
  },
  {
   "cell_type": "code",
   "execution_count": 90,
   "metadata": {},
   "outputs": [
    {
     "name": "stdout",
     "output_type": "stream",
     "text": [
      "Python\n",
      "Python\n"
     ]
    }
   ],
   "source": [
    "# Note how the start is always included, and the end always excluded. This makes sure that s[:i] + s[i:] is always equal to s:\n",
    "\n",
    "word = 'Python'\n",
    "print(word[:2] + word[2:])\n",
    "print(word[:-3] +  word[-3:])"
   ]
  },
  {
   "cell_type": "markdown",
   "metadata": {},
   "source": [
    "One way to remember how slices work is to think of the indices as pointing between characters, with the left edge of the first character numbered 0. Then the right edge of the last character of a string of n characters has index n, for example:\n",
    "\n",
    " +---+---+---+---+---+---+\n",
    " | P | y | t | h | o | n |\n",
    " +---+---+---+---+---+---+\n",
    " 0   1   2   3   4   5   6\n",
    "-6  -5  -4  -3  -2  -1\n",
    "The first row of numbers gives the position of the indices 0…6 in the string; the second row gives the corresponding negative indices. The slice from i to j consists of all characters between the edges labeled i and j, respectively.\n",
    "\n",
    "For non-negative indices, the length of a slice is the difference of the indices, if both are within bounds. For example, the length of word[1:3] is 2."
   ]
  },
  {
   "cell_type": "code",
   "execution_count": 94,
   "metadata": {},
   "outputs": [
    {
     "name": "stdout",
     "output_type": "stream",
     "text": [
      "Jython\n"
     ]
    }
   ],
   "source": [
    "#Python strings cannot be changed — they are immutable. Therefore, assigning to an indexed position in the string results in an error:\n",
    "word = \"Python\"\n",
    "#word[0] = 'j'\n",
    "\n",
    "#If you need a different string, you should create a new one:\n",
    "print('J' + word[1:])"
   ]
  },
  {
   "cell_type": "code",
   "execution_count": 96,
   "metadata": {},
   "outputs": [
    {
     "data": {
      "text/plain": [
       "59"
      ]
     },
     "execution_count": 96,
     "metadata": {},
     "output_type": "execute_result"
    }
   ],
   "source": [
    "# The built-in function len() returns the length of a string:\n",
    "s = 'ygdsfhsvfdkusJzGHDhiwusgdfhbkjwhsgfdbawjhsdfbwjhsfbciusldjb'\n",
    "len(s)"
   ]
  },
  {
   "cell_type": "markdown",
   "metadata": {},
   "source": [
    "VARIABLES"
   ]
  },
  {
   "cell_type": "code",
   "execution_count": 3,
   "metadata": {},
   "outputs": [
    {
     "name": "stdout",
     "output_type": "stream",
     "text": [
      "3\n"
     ]
    }
   ],
   "source": [
    "n=1\n",
    "m=2\n",
    "s=n+m\n",
    "print(s)"
   ]
  },
  {
   "cell_type": "code",
   "execution_count": 4,
   "metadata": {},
   "outputs": [
    {
     "name": "stdout",
     "output_type": "stream",
     "text": [
      "5\n",
      "Adarsh\n"
     ]
    }
   ],
   "source": [
    "x=5\n",
    "y=\"Adarsh\"\n",
    "print(x)\n",
    "print(y)"
   ]
  },
  {
   "cell_type": "code",
   "execution_count": 10,
   "metadata": {},
   "outputs": [
    {
     "name": "stdout",
     "output_type": "stream",
     "text": [
      "5 1 4.0\n",
      "<class 'str'> <class 'int'> <class 'float'>\n"
     ]
    }
   ],
   "source": [
    "x=str(5)\n",
    "y=int(1)\n",
    "z=float(4)\n",
    "print(x,y,z)\n",
    "print(type(x),type(y),type(z))"
   ]
  },
  {
   "cell_type": "code",
   "execution_count": 14,
   "metadata": {},
   "outputs": [
    {
     "name": "stdout",
     "output_type": "stream",
     "text": [
      "Adarsh Vidushi Python\n",
      "Equal Equal Equal\n"
     ]
    }
   ],
   "source": [
    "name1,name2,name3 = \"Adarsh\", \"Vidushi\",\"Python\"\n",
    "print(name1,name2,name3)\n",
    "x=y=z=\"Equal\"\n",
    "print(x,y,z)"
   ]
  },
  {
   "cell_type": "code",
   "execution_count": 15,
   "metadata": {},
   "outputs": [
    {
     "name": "stdout",
     "output_type": "stream",
     "text": [
      "Python SQL PowerBI\n"
     ]
    }
   ],
   "source": [
    "skills = [\"Python\",\"SQL\",\"PowerBI\"]\n",
    "skill_1,skill_2,skill_3 = skills\n",
    "print(skill_1, skill_2, skill_3)"
   ]
  },
  {
   "cell_type": "code",
   "execution_count": 23,
   "metadata": {},
   "outputs": [
    {
     "name": "stdout",
     "output_type": "stream",
     "text": [
      "I am learning Python\n",
      "Python Python Python Python Python \n"
     ]
    }
   ],
   "source": [
    "a= \"I \"\n",
    "b=\"am \"\n",
    "c=\"learning \"\n",
    "d=\"Python\"\n",
    "print(a +b+c+d)\n",
    "x=5\n",
    "y=\"Python \"\n",
    "print(y*x)"
   ]
  },
  {
   "cell_type": "code",
   "execution_count": 24,
   "metadata": {},
   "outputs": [
    {
     "name": "stdout",
     "output_type": "stream",
     "text": [
      "I am learning Python\n"
     ]
    }
   ],
   "source": [
    "x=\"Python\"\n",
    "def myfunc():\n",
    "    print(\"I am learning \"+x )\n",
    "myfunc()"
   ]
  },
  {
   "cell_type": "code",
   "execution_count": 25,
   "metadata": {},
   "outputs": [
    {
     "name": "stdout",
     "output_type": "stream",
     "text": [
      "I am learning Python\n",
      "I am learning SQL\n"
     ]
    }
   ],
   "source": [
    "x=\"SQL\"\n",
    "def myfunc():\n",
    "    x=\"Python\"\n",
    "    print(\"I am learning \"+ x)\n",
    "myfunc()\n",
    "print(\"I am learning \"+x)"
   ]
  },
  {
   "cell_type": "code",
   "execution_count": 29,
   "metadata": {},
   "outputs": [
    {
     "name": "stdout",
     "output_type": "stream",
     "text": [
      "I am learning Python\n",
      "I am learning Python\n"
     ]
    }
   ],
   "source": [
    "x=\"SQL\"\n",
    "def myfunc():\n",
    "    global x\n",
    "    x=\"Python\"\n",
    "    print(\"I am learning \"+x)\n",
    "myfunc()\n",
    "print(\"I am learning \"+ x)\n"
   ]
  },
  {
   "cell_type": "markdown",
   "metadata": {},
   "source": [
    "PYTHON DATA TYPES\n",
    "TEXT TYPE: Str\n",
    "NUMERIC TYPE: int, float, complex\n",
    "SEQUENCE TYPES: list, tuple, range\n",
    "MAPPING: dict\n",
    "SET TYPE: set, frozenset\n",
    "BOOLEAN TYPE: bool\n",
    "BINARY TYPE: bytes, bytearray, memoryview\n",
    "NONE TYPE: NoneType"
   ]
  },
  {
   "cell_type": "code",
   "execution_count": 35,
   "metadata": {},
   "outputs": [
    {
     "name": "stdout",
     "output_type": "stream",
     "text": [
      "b'hello'\n",
      "5\n",
      "dosen't\n"
     ]
    }
   ],
   "source": [
    "x=b\"hello\"\n",
    "print(x)\n",
    "range =5\n",
    "print(range)\n",
    "z='dosen\\'t'\n",
    "print(z)"
   ]
  },
  {
   "cell_type": "markdown",
   "metadata": {},
   "source": []
  },
  {
   "cell_type": "markdown",
   "metadata": {},
   "source": []
  },
  {
   "cell_type": "markdown",
   "metadata": {},
   "source": []
  }
 ],
 "metadata": {
  "kernelspec": {
   "display_name": "Python 3",
   "language": "python",
   "name": "python3"
  },
  "language_info": {
   "codemirror_mode": {
    "name": "ipython",
    "version": 3
   },
   "file_extension": ".py",
   "mimetype": "text/x-python",
   "name": "python",
   "nbconvert_exporter": "python",
   "pygments_lexer": "ipython3",
   "version": "3.12.1"
  }
 },
 "nbformat": 4,
 "nbformat_minor": 2
}
