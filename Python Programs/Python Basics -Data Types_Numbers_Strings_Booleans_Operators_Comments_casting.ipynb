{
 "cells": [
  {
   "cell_type": "markdown",
   "metadata": {},
   "source": [
    "# NUMBERS"
   ]
  },
  {
   "cell_type": "code",
   "execution_count": 48,
   "metadata": {},
   "outputs": [
    {
     "name": "stdout",
     "output_type": "stream",
     "text": [
      "4\n",
      "5.666666666666667\n",
      "5\n",
      "2\n",
      "25\n",
      "14\n",
      "<class 'complex'>\n"
     ]
    }
   ],
   "source": [
    "print(2+2)\n",
    "print(17/3) # returns float value\n",
    "print(17//3) # floor division discards the fractional part\n",
    "print(17%3) # returns the remainder\n",
    "print(5**2) # 5 squared\n",
    "print(2*7) # 2 ro the power 7\n",
    "print(type(5+1j))\n"
   ]
  },
  {
   "cell_type": "code",
   "execution_count": 45,
   "metadata": {},
   "outputs": [
    {
     "data": {
      "text/plain": [
       "113.06"
      ]
     },
     "execution_count": 45,
     "metadata": {},
     "output_type": "execute_result"
    }
   ],
   "source": [
    "# In interactive mode, the last printed expression is assigned to the variable _\n",
    "tax = 12.5/100\n",
    "price = 100.50\n",
    "price*tax\n",
    "price + _\n",
    "round(_,2)"
   ]
  },
  {
   "cell_type": "code",
   "execution_count": 16,
   "metadata": {},
   "outputs": [
    {
     "name": "stdout",
     "output_type": "stream",
     "text": [
      "6\n"
     ]
    }
   ],
   "source": [
    "# Python does not have a random() function to make a random number, but Python has a built-in module called random that can be used to make random numbers:\n",
    "\n",
    "import random\n",
    "print(random.randrange(1,10))"
   ]
  },
  {
   "cell_type": "markdown",
   "metadata": {},
   "source": [
    "STRINGS\n",
    "Python strings cannot be changed — they are immutable.\n",
    "\n",
    "Immutable:\n",
    "An object with a fixed value. Immutable objects include numbers, strings and tuples. Such an object cannot be altered. A new object has to be created if a different value has to be stored. They play an important role in places where a constant hash value is needed, for example as a key in a dictionary.\n"
   ]
  },
  {
   "cell_type": "code",
   "execution_count": 56,
   "metadata": {},
   "outputs": [
    {
     "name": "stdout",
     "output_type": "stream",
     "text": [
      "doesn't\n",
      "doesn't\n",
      "\"Yes,\" they said\n",
      "\"Yes,\" they said\n",
      "\"isn't,\" they said\n"
     ]
    }
   ],
   "source": [
    "# To quote a quote, we need to “escape” it, by preceding it with \\. Alternatively, we can use the other type of quotation marks:\n",
    "print('doesn\\'t')\n",
    "print(\"doesn't\")\n",
    "print('\"Yes,\" they said')\n",
    "print(\"\\\"Yes,\\\" they said\")\n",
    "print('\"isn\\'t,\" they said')"
   ]
  },
  {
   "cell_type": "code",
   "execution_count": 60,
   "metadata": {},
   "outputs": [
    {
     "name": "stdout",
     "output_type": "stream",
     "text": [
      "First Line.\n",
      "Second Line.\n"
     ]
    }
   ],
   "source": [
    "s = 'First Line.\\nSecond Line.'\n",
    "s\n",
    "print(s)"
   ]
  },
  {
   "cell_type": "code",
   "execution_count": 63,
   "metadata": {},
   "outputs": [
    {
     "name": "stdout",
     "output_type": "stream",
     "text": [
      "C:\\some\\name\n"
     ]
    }
   ],
   "source": [
    "# If you don’t want characters prefaced by \\ to be interpreted as special characters, you can use raw strings by adding an r before \n",
    "#the first quote:\n",
    "\n",
    "#print('C:\\some\\name') # here \\n means new line\n",
    "print(r'C:\\some\\name') # note the r before the quote\n",
    "\n"
   ]
  },
  {
   "cell_type": "code",
   "execution_count": 65,
   "metadata": {},
   "outputs": [
    {
     "name": "stdout",
     "output_type": "stream",
     "text": [
      "Usage: things[OPTIONS]\n",
      "      -h                Display this usage message\n",
      "      -H                Hostname to connect to\n",
      "      \n"
     ]
    }
   ],
   "source": [
    "\n",
    "#String literals can span multiple lines. One way is using triple-quotes: \"\"\"...\"\"\" or '''...'''. \n",
    "#End of lines are automatically included in the string, but it’s possible to prevent this by adding a \\ at the end of the line. \n",
    "\n",
    "\n",
    "print(\"\"\"\\\n",
    "Usage: things[OPTIONS]\n",
    "      -h                Display this usage message\n",
    "      -H                Hostname to connect to\n",
    "      \"\"\")"
   ]
  },
  {
   "cell_type": "code",
   "execution_count": 70,
   "metadata": {},
   "outputs": [
    {
     "name": "stdout",
     "output_type": "stream",
     "text": [
      "unununium\n",
      "Python\n",
      "Put several strinsg within parathesesto have them joined together\n",
      "Python\n"
     ]
    }
   ],
   "source": [
    "#Strings can be concatenated (glued together) with the + operator, and repeated with *:\n",
    "print(3 * 'un' + 'ium')\n",
    "print('Py' + 'thon')\n",
    "text = ('Put several strinsg within paratheses'\n",
    "        'to have them joined together')\n",
    "print(text) \n",
    "prefix = \"Py\"\n",
    "print(prefix + 'thon')"
   ]
  },
  {
   "cell_type": "code",
   "execution_count": 81,
   "metadata": {},
   "outputs": [
    {
     "name": "stdout",
     "output_type": "stream",
     "text": [
      "P\n",
      "n\n",
      "n\n",
      "o\n",
      "P\n"
     ]
    }
   ],
   "source": [
    "# Strings can be indexed (subscripted), with the first character having index 0.\n",
    "# There is no separate character type; a character is simply a string of size one\n",
    "\n",
    "word = \"Python\"\n",
    "print(word[0]) # caharcter in position 0\n",
    "print(word[5]) # character in position 5\n",
    "\n",
    "# Indices may also be negative numbers, to start counting from the right:\n",
    "\n",
    "print(word[-1]) # last caharcter\n",
    "print(word[-2]) # second last character\n",
    "print(word[-6]) # First Charcter\n",
    "\n",
    "\n"
   ]
  },
  {
   "cell_type": "code",
   "execution_count": 87,
   "metadata": {},
   "outputs": [
    {
     "name": "stdout",
     "output_type": "stream",
     "text": [
      "Py\n",
      "tho\n",
      "Py\n",
      "on\n",
      "on\n",
      "Pyt\n"
     ]
    }
   ],
   "source": [
    "# In addition to indexing, slicing is also supported. \n",
    "# While indexing is used to obtain individual characters, slicing allows you to obtain a substring:\n",
    "\n",
    "word = 'Python'\n",
    "print(word[0:2]) # caharacters from position 0 (included) to position 2 (excluded)\n",
    "print(word[2:5]) # caharcters from position 2 (included) to position 5(excluded)\n",
    "\n",
    "print(word[:2]) # caharcter from beginning to posiyion 2 (excluded)\n",
    "print(word[4:]) # characters from position 4(included) to the end\n",
    "print(word[-2:]) # caharcters from second last (included) to the end\n",
    "print(word[:-3])"
   ]
  },
  {
   "cell_type": "code",
   "execution_count": 90,
   "metadata": {},
   "outputs": [
    {
     "name": "stdout",
     "output_type": "stream",
     "text": [
      "Python\n",
      "Python\n"
     ]
    }
   ],
   "source": [
    "# Note how the start is always included, and the end always excluded. This makes sure that s[:i] + s[i:] is always equal to s:\n",
    "\n",
    "word = 'Python'\n",
    "print(word[:2] + word[2:])\n",
    "print(word[:-3] +  word[-3:])"
   ]
  },
  {
   "cell_type": "markdown",
   "metadata": {},
   "source": [
    "One way to remember how slices work is to think of the indices as pointing between characters, with the left edge of the first character numbered 0. Then the right edge of the last character of a string of n characters has index n, for example:\n",
    "\n",
    " +---+---+---+---+---+---+\n",
    " | P | y | t | h | o | n |\n",
    " +---+---+---+---+---+---+\n",
    " 0   1   2   3   4   5   6\n",
    "-6  -5  -4  -3  -2  -1\n",
    "The first row of numbers gives the position of the indices 0…6 in the string; the second row gives the corresponding negative indices. The slice from i to j consists of all characters between the edges labeled i and j, respectively.\n",
    "\n",
    "For non-negative indices, the length of a slice is the difference of the indices, if both are within bounds. For example, the length of word[1:3] is 2."
   ]
  },
  {
   "cell_type": "code",
   "execution_count": 94,
   "metadata": {},
   "outputs": [
    {
     "name": "stdout",
     "output_type": "stream",
     "text": [
      "Jython\n"
     ]
    }
   ],
   "source": [
    "#Python strings cannot be changed — they are immutable. Therefore, assigning to an indexed position in the string results in an error:\n",
    "word = \"Python\"\n",
    "#word[0] = 'j'\n",
    "\n",
    "#If you need a different string, you should create a new one:\n",
    "print('J' + word[1:])"
   ]
  },
  {
   "cell_type": "code",
   "execution_count": 96,
   "metadata": {},
   "outputs": [
    {
     "data": {
      "text/plain": [
       "59"
      ]
     },
     "execution_count": 96,
     "metadata": {},
     "output_type": "execute_result"
    }
   ],
   "source": [
    "# The built-in function len() returns the length of a string:\n",
    "s = 'ygdsfhsvfdkusJzGHDhiwusgdfhbkjwhsgfdbawjhsdfbwjhsfbciusldjb'\n",
    "len(s)"
   ]
  },
  {
   "cell_type": "code",
   "execution_count": 21,
   "metadata": {},
   "outputs": [
    {
     "name": "stdout",
     "output_type": "stream",
     "text": [
      "A\n",
      "d\n",
      "a\n",
      "r\n",
      "s\n",
      "h\n"
     ]
    }
   ],
   "source": [
    "for x in \"Adarsh\":\n",
    "    print (x)"
   ]
  },
  {
   "cell_type": "code",
   "execution_count": 30,
   "metadata": {},
   "outputs": [
    {
     "name": "stdout",
     "output_type": "stream",
     "text": [
      "True\n",
      "Yes, 'free' is present.\n"
     ]
    }
   ],
   "source": [
    "# Check String\n",
    "txt = \"The best things in life are free!\"\n",
    "print(\"free\" in txt)\n",
    "\n",
    "# Use it in an if statement:\n",
    "txt = \"The best things in life are free!\"\n",
    "if \"free\" in txt:\n",
    "  print(\"Yes, 'free' is present.\")\n",
    "else: \n",
    "    print(\"No, 'free' is present.\")"
   ]
  },
  {
   "cell_type": "code",
   "execution_count": 32,
   "metadata": {},
   "outputs": [
    {
     "name": "stdout",
     "output_type": "stream",
     "text": [
      "True\n",
      "No, 'expensive' is present.\n"
     ]
    }
   ],
   "source": [
    "# check if not \n",
    "txt = \"The best things in life are free!\"\n",
    "print(\"expensive\" not in txt)\n",
    "\n",
    "# Use it in an if statement:\n",
    "if \"expensive\" not in txt:\n",
    "    print(\"No, 'expensive' is present.\")"
   ]
  },
  {
   "cell_type": "code",
   "execution_count": 48,
   "metadata": {},
   "outputs": [
    {
     "name": "stdout",
     "output_type": "stream",
     "text": [
      "HELLO WORLD\n",
      "hello world\n",
      "Hello World\n"
     ]
    }
   ],
   "source": [
    "# Modify Strings\n",
    "a = \"Hello World\"\n",
    "print(a.upper())\n",
    "print(a.lower())\n",
    "\n",
    "# Remove Whitespaces\n",
    "b=\" Hello World \"\n",
    "print(b.strip())"
   ]
  },
  {
   "cell_type": "code",
   "execution_count": 51,
   "metadata": {},
   "outputs": [
    {
     "name": "stdout",
     "output_type": "stream",
     "text": [
      "Jello World\n",
      "Hey World\n"
     ]
    }
   ],
   "source": [
    "# Replace String\n",
    "a = \"Hello World\"\n",
    "print(a.replace(\"H\",\"J\"))\n",
    "print(a.replace(\"Hello\",\"Hey\"))"
   ]
  },
  {
   "cell_type": "code",
   "execution_count": null,
   "metadata": {},
   "outputs": [],
   "source": [
    "# Split String\n",
    "\n",
    "a = \"Hello World\"\n",
    "print(a.split())\n",
    "b = \"Hi, My name is Adarsh\"\n",
    "print(b.split(\",\"))"
   ]
  },
  {
   "cell_type": "markdown",
   "metadata": {},
   "source": [
    "# String Format\n",
    "As we learned in the Python Variables chapter, we cannot combine strings and numbers like this:\n",
    "age = 36\n",
    "txt = \"My name is Adarsh, I am \" + age\n",
    "print(txt)\n",
    "\n",
    "But we can combine strings and numbers by using the format() method!\n",
    "\n"
   ]
  },
  {
   "cell_type": "code",
   "execution_count": 64,
   "metadata": {},
   "outputs": [
    {
     "name": "stdout",
     "output_type": "stream",
     "text": [
      "My name is Adarsh, and I am 24 years old\n",
      "I want 3 piecess of item number 111 for 550.5 dollars\n",
      "I want 3 piecess of item number 111 for 550.5 dollars\n"
     ]
    }
   ],
   "source": [
    "# The format() method takes the passed arguments, formats them, and places them in the string where the placeholders {} are:\n",
    "age = 24\n",
    "txt = \"My name is Adarsh, and I am {} years old\"\n",
    "print(txt.format(age))\n",
    "\n",
    "quantity = 3\n",
    "item_no = 111\n",
    "price = 550.50\n",
    "my_order = \"I want {} piecess of item number {} for {} dollars\"\n",
    "print(my_order.format(quantity,item_no,price))\n",
    "\n",
    "# You can use index numbers {0} to be sure the arguments are placed in the correct placeholders:\n",
    "quantity = 3\n",
    "item_no = 111\n",
    "price = 550.50\n",
    "my_order = \"I want {1} piecess of item number {2} for {0} dollars\"\n",
    "print(my_order.format(price, quantity, item_no))"
   ]
  },
  {
   "cell_type": "markdown",
   "metadata": {},
   "source": [
    "ESCAPE CHARACTERS\n",
    "Code\tResult\t\n",
    "\\'\t    Single Quote\t\n",
    "\\\\\t    Backslash\t\n",
    "\\n\t    New Line\t\n",
    "\\r\t    Carriage Return\t\n",
    "\\t\t    Tab\t\n",
    "\\b\t    Backspace\t\n",
    "\\f\t    Form Feed\t\n",
    "\\ooo\tOctal value\t\n",
    "\\xhh\tHex value"
   ]
  },
  {
   "cell_type": "code",
   "execution_count": 77,
   "metadata": {},
   "outputs": [
    {
     "name": "stdout",
     "output_type": "stream",
     "text": [
      "It's alright.\n",
      "This will insert one \\ (backslash).\n",
      "Hello\n",
      "World!\n",
      "World\n",
      "Hello\tWorld!\n",
      "HelloWorld!\n"
     ]
    }
   ],
   "source": [
    "txt = 'It\\'s alright.'\n",
    "print(txt) \n",
    "\n",
    "txt = \"This will insert one \\\\ (backslash).\"\n",
    "print(txt) \n",
    "\n",
    "txt = \"Hello\\nWorld!\"\n",
    "print(txt) \n",
    "\n",
    "txt = \"Hello\\rWorld\"\n",
    "print(txt) \n",
    "\n",
    "txt = \"Hello\\tWorld!\"\n",
    "print(txt) \n",
    "\n",
    "#This example erases one character (backspace):\n",
    "txt = \"Hello \\bWorld!\"\n",
    "print(txt) "
   ]
  },
  {
   "cell_type": "markdown",
   "metadata": {},
   "source": [
    "# String Methods\n",
    "\n",
    "capitalize()\tConverts the first character to upper case\n",
    "casefold()\t    Converts string into lower case\n",
    "center()\t    Returns a centered string\n",
    "count()\t        Returns the number of times a specified value occurs in a string\n",
    "encode()\t    Returns an encoded version of the string\n",
    "endswith()\t    Returns true if the string ends with the specified value\n",
    "expandtabs()\tSets the tab size of the string\n",
    "find()\t        Searches the string for a specified value and returns the position of where it was found\n",
    "format()\t    Formats specified values in a string\n",
    "format_map()\tFormats specified values in a string\n",
    "index()\t        Searches the string for a specified value and returns the position of where it was found\n",
    "isalnum()\t    Returns True if all characters in the string are alphanumeric\n",
    "isalpha()\t    Returns True if all characters in the string are in the alphabet\n",
    "isascii()\t    Returns True if all characters in the string are ascii characters\n",
    "isdecimal()\t    Returns True if all characters in the string are decimals\n",
    "isdigit()\t    Returns True if all characters in the string are digits\n",
    "isidentifier()\tReturns True if the string is an identifier\n",
    "islower()\t    Returns True if all characters in the string are lower case\n",
    "isnumeric()\t    Returns True if all characters in the string are numeric\n",
    "isprintable()\tReturns True if all characters in the string are printable\n",
    "isspace()\t    Returns True if all characters in the string are whitespaces\n",
    "istitle()\t    Returns True if the string follows the rules of a title\n",
    "isupper()\t    Returns True if all characters in the string are upper case\n",
    "join()\t        Joins the elements of an iterable to the end of the string\n",
    "ljust()\t        Returns a left justified version of the string\n",
    "lower()\t        Converts a string into lower case\n",
    "lstrip()\t    Returns a left trim version of the string\n",
    "maketrans()\t    Returns a translation table to be used in translations\n",
    "partition()\t    Returns a tuple where the string is parted into three parts\n",
    "replace()\t    Returns a string where a specified value is replaced with a specified value\n",
    "rfind()\t        Searches the string for a specified value and returns the last position of where it was found\n",
    "rindex()\t    Searches the string for a specified value and returns the last position of where it was found\n",
    "rjust()\t        Returns a right justified version of the string\n",
    "rpartition()\tReturns a tuple where the string is parted into three parts\n",
    "rsplit()\t    Splits the string at the specified separator, and returns a list\n",
    "rstrip()    \tReturns a right trim version of the string\n",
    "split()\t        Splits the string at the specified separator, and returns a list\n",
    "splitlines()\tSplits the string at line breaks and returns a list\n",
    "startswith()\tReturns true if the string starts with the specified value\n",
    "strip()\t        Returns a trimmed version of the string\n",
    "swapcase()\t    Swaps cases, lower case becomes upper case and vice versa\n",
    "title()\t        Converts the first character of each word to upper case\n",
    "translate()\t    Returns a translated string\n",
    "upper()\t        Converts a string into upper case\n",
    "zfill()\t        Fills the string with a specified number of 0 values at the beginning"
   ]
  },
  {
   "cell_type": "code",
   "execution_count": 118,
   "metadata": {},
   "outputs": [
    {
     "name": "stdout",
     "output_type": "stream",
     "text": [
      "Hi, My name is Adarsh\n",
      "Hi, my name is adarsh\n",
      "hi, my name is adarsh\n",
      "                                       Hi, My name is Adarsh                                        \n",
      "b'Hi, My name is Adarsh'\n",
      "True\n",
      "H  e  l  l  o\n",
      "7\n",
      "7\n",
      "False\n",
      "False\n",
      "True\n",
      "False\n",
      "False\n",
      "True\n",
      "False\n",
      "False\n",
      "False\n",
      "True\n",
      "False\n",
      "John Peter Vicky\n"
     ]
    }
   ],
   "source": [
    "a = \"Hi, My name is Adarsh\"\n",
    "print(a)\n",
    "print(a.capitalize())\n",
    "print(a.casefold())\n",
    "print(a.center(100))\n",
    "print(a.encode())\n",
    "print(a.endswith(\"h\"))\n",
    "txt = \"H\\te\\tl\\tl\\to\"\n",
    "x =  txt.expandtabs(3)\n",
    "print(x)\n",
    "print(a.find(\"n\")) \n",
    "print(a.index(\"n\"))\n",
    "print(a.isalnum())\n",
    "print(a.isalpha())\n",
    "print(a.isascii())\n",
    "print(a.isdecimal())\n",
    "print(a.isdigit())\n",
    "b = (\"Heyyy\")\n",
    "print(b.isidentifier())\n",
    "print(a.islower())\n",
    "print(a.isupper())\n",
    "print(a.isnumeric())\n",
    "c = a.isprintable()\n",
    "print(c)\n",
    "print(a.isspace())\n",
    "myTuple = (\"John\", \"Peter\", \"Vicky\")\n",
    "x = \" \".join(myTuple)\n",
    "print(x)\n"
   ]
  },
  {
   "cell_type": "markdown",
   "metadata": {},
   "source": [
    "# VARIABLES"
   ]
  },
  {
   "cell_type": "code",
   "execution_count": 3,
   "metadata": {},
   "outputs": [
    {
     "name": "stdout",
     "output_type": "stream",
     "text": [
      "3\n"
     ]
    }
   ],
   "source": [
    "n=1\n",
    "m=2\n",
    "s=n+m\n",
    "print(s)"
   ]
  },
  {
   "cell_type": "code",
   "execution_count": 4,
   "metadata": {},
   "outputs": [
    {
     "name": "stdout",
     "output_type": "stream",
     "text": [
      "5\n",
      "Adarsh\n"
     ]
    }
   ],
   "source": [
    "x=5\n",
    "y=\"Adarsh\"\n",
    "print(x)\n",
    "print(y)"
   ]
  },
  {
   "cell_type": "code",
   "execution_count": 10,
   "metadata": {},
   "outputs": [
    {
     "name": "stdout",
     "output_type": "stream",
     "text": [
      "5 1 4.0\n",
      "<class 'str'> <class 'int'> <class 'float'>\n"
     ]
    }
   ],
   "source": [
    "x=str(5)\n",
    "y=int(1)\n",
    "z=float(4)\n",
    "print(x,y,z)\n",
    "print(type(x),type(y),type(z))"
   ]
  },
  {
   "cell_type": "code",
   "execution_count": 14,
   "metadata": {},
   "outputs": [
    {
     "name": "stdout",
     "output_type": "stream",
     "text": [
      "Adarsh Vidushi Python\n",
      "Equal Equal Equal\n"
     ]
    }
   ],
   "source": [
    "name1,name2,name3 = \"Adarsh\", \"Vidushi\",\"Python\"\n",
    "print(name1,name2,name3)\n",
    "x=y=z=\"Equal\"\n",
    "print(x,y,z)"
   ]
  },
  {
   "cell_type": "code",
   "execution_count": 15,
   "metadata": {},
   "outputs": [
    {
     "name": "stdout",
     "output_type": "stream",
     "text": [
      "Python SQL PowerBI\n"
     ]
    }
   ],
   "source": [
    "skills = [\"Python\",\"SQL\",\"PowerBI\"]\n",
    "skill_1,skill_2,skill_3 = skills\n",
    "print(skill_1, skill_2, skill_3)"
   ]
  },
  {
   "cell_type": "code",
   "execution_count": 23,
   "metadata": {},
   "outputs": [
    {
     "name": "stdout",
     "output_type": "stream",
     "text": [
      "I am learning Python\n",
      "Python Python Python Python Python \n"
     ]
    }
   ],
   "source": [
    "a= \"I \"\n",
    "b=\"am \"\n",
    "c=\"learning \"\n",
    "d=\"Python\"\n",
    "print(a +b+c+d)\n",
    "x=5\n",
    "y=\"Python \"\n",
    "print(y*x)"
   ]
  },
  {
   "cell_type": "code",
   "execution_count": 24,
   "metadata": {},
   "outputs": [
    {
     "name": "stdout",
     "output_type": "stream",
     "text": [
      "I am learning Python\n"
     ]
    }
   ],
   "source": [
    "x=\"Python\"\n",
    "def myfunc():\n",
    "    print(\"I am learning \"+x )\n",
    "myfunc()"
   ]
  },
  {
   "cell_type": "code",
   "execution_count": 25,
   "metadata": {},
   "outputs": [
    {
     "name": "stdout",
     "output_type": "stream",
     "text": [
      "I am learning Python\n",
      "I am learning SQL\n"
     ]
    }
   ],
   "source": [
    "x=\"SQL\"\n",
    "def myfunc():\n",
    "    x=\"Python\"\n",
    "    print(\"I am learning \"+ x)\n",
    "myfunc()\n",
    "print(\"I am learning \"+x)"
   ]
  },
  {
   "cell_type": "code",
   "execution_count": 29,
   "metadata": {},
   "outputs": [
    {
     "name": "stdout",
     "output_type": "stream",
     "text": [
      "I am learning Python\n",
      "I am learning Python\n"
     ]
    }
   ],
   "source": [
    "x=\"SQL\"\n",
    "def myfunc():\n",
    "    global x\n",
    "    x=\"Python\"\n",
    "    print(\"I am learning \"+x)\n",
    "myfunc()\n",
    "print(\"I am learning \"+ x)\n"
   ]
  },
  {
   "cell_type": "markdown",
   "metadata": {},
   "source": [
    "# PYTHON DATA TYPES\n",
    "TEXT TYPE: Str\n",
    "NUMERIC TYPE: int, float, complex\n",
    "SEQUENCE TYPES: list, tuple, range\n",
    "MAPPING: dict\n",
    "SET TYPE: set, frozenset\n",
    "BOOLEAN TYPE: bool\n",
    "BINARY TYPE: bytes, bytearray, memoryview\n",
    "NONE TYPE: NoneType"
   ]
  },
  {
   "cell_type": "code",
   "execution_count": 35,
   "metadata": {},
   "outputs": [
    {
     "name": "stdout",
     "output_type": "stream",
     "text": [
      "b'hello'\n",
      "5\n",
      "dosen't\n"
     ]
    }
   ],
   "source": [
    "x=b\"hello\"\n",
    "print(x)\n",
    "range =5\n",
    "print(range)\n",
    "z='dosen\\'t'\n",
    "print(z)"
   ]
  },
  {
   "cell_type": "markdown",
   "metadata": {},
   "source": []
  },
  {
   "cell_type": "markdown",
   "metadata": {},
   "source": [
    "# DATA TYPES"
   ]
  },
  {
   "cell_type": "markdown",
   "metadata": {},
   "source": []
  },
  {
   "cell_type": "code",
   "execution_count": 11,
   "metadata": {},
   "outputs": [
    {
     "name": "stdout",
     "output_type": "stream",
     "text": [
      "Hello World\n",
      "20\n",
      "20.5\n",
      "1j\n",
      "['Python', 'SQL', 'PowerBI']\n",
      "('Python', 'SQL', 'PowerBI')\n",
      "range(0, 5)\n",
      "{'name': 'Adarsh', 'Age': 24}\n",
      "{'Python', 'PowerBI', 'SQL'}\n",
      "frozenset({'Python', 'PowerBI', 'SQL'})\n",
      "True\n",
      "b'Hello'\n",
      "bytearray(b'\\x00\\x00\\x00\\x00\\x00')\n",
      "<memory at 0x0000021DF8C8CB80>\n",
      "None\n"
     ]
    }
   ],
   "source": [
    "a = \"Hello World\" # Str\n",
    "b =20 # int\n",
    "c =20.5 # float\n",
    "d= 1j # complex\n",
    "e = [\"Python\",\"SQL\",\"PowerBI\"] # list\n",
    "f = (\"Python\", \"SQL\", \"PowerBI\") # tuple\n",
    "g = range(5) # range\n",
    "h = {\"name\": \"Adarsh\", \"Age\": 24} # Dict\n",
    "i = {\"Python\", \"SQL\", \"PowerBI\"} # set\n",
    "j = frozenset({\"Python\", \"SQL\", \"PowerBI\"}) # forzenset\n",
    "k = True # bool\n",
    "l = b\"Hello\" # bytes\n",
    "m = bytearray(5) # bytearray\n",
    "n = memoryview(bytes(70))\n",
    "o = None    # NoneType\n",
    "\n",
    "print(a,b,c,d,e,f,g,h,i,j,k,l,m,n,o, sep='\\n')"
   ]
  },
  {
   "cell_type": "markdown",
   "metadata": {},
   "source": [
    "# Python List\n",
    "\n",
    "Python Lists are just like dynamic-sized arrays, declared in other languages (vector in C++ and ArrayList in Java). Lists need not be homogeneous always which makes it the most powerful tool in Python. \n",
    "Lists are mutable.\n",
    "The list allows duplicate elements.\n",
    "\n",
    "# Python Tuple\n",
    "\n",
    "A Tuple is a collection of Python objects separated by commas. In some ways, a tuple is similar to a list in terms of indexing, nested objects, and repetition but a tuple is immutable, unlike lists that are mutable.\n",
    "Tuple allows duplicate elements.\n",
    "\n",
    "# Python Set\n",
    "\n",
    "A Python Set is an unordered collection data type that is iterable, mutable and has no duplicate elements. Python’s set class represents the mathematical notion of a set.\n",
    "The Set will not allow duplicate elements.\n",
    "A set is mutable.\n",
    "\n",
    "# Python Dictionary\n",
    "\n",
    "Dictionary in Python is an ordered collection of data values, used to store data values like a map, which, unlike other Data Types that hold only a single value as an element, Dictionary holds key:value pair. Key-value is provided in the dictionary to make it more optimized.\n",
    "The dictionary doesn’t allow duplicate keys.\n",
    "A dictionary is mutable.\n",
    "\n",
    "# Python Frozenset\n",
    "\n",
    "Python Method creates an immutable Set object from an iterable. It is a built-in Python function. As it is a set object, therefore, we cannot have duplicate values in the frozenset.\n",
    "\n"
   ]
  },
  {
   "cell_type": "markdown",
   "metadata": {},
   "source": [
    "# BOOLEAN"
   ]
  },
  {
   "cell_type": "code",
   "execution_count": 133,
   "metadata": {},
   "outputs": [
    {
     "name": "stdout",
     "output_type": "stream",
     "text": [
      "True\n",
      "False\n",
      "False\n",
      "True\n",
      "False\n",
      "True\n",
      "True\n",
      "False\n",
      "False\n"
     ]
    }
   ],
   "source": [
    "print(10>9)\n",
    "print(10==9)\n",
    "print(10<9)\n",
    "\n",
    "print(bool(\"Hello\"))\n",
    "print(bool(\"\"))\n",
    "print(bool(5))\n",
    "\n",
    "x = 5\n",
    "y=0\n",
    "print(bool(x))\n",
    "print(bool(y))\n",
    "\n",
    "#Almost any value is evaluated to True if it has some sort of content. Any string is True, except empty strings.Any number is True, except 0.Any list, tuple, set, and dictionary are True, except empty ones.\n",
    "bool(\"abc\")\n",
    "bool(3423)\n",
    "bool([\"Python\",\"SQL\",\"PowerBI\"])\n",
    "\n",
    "# In fact, there are not many values that evaluate to False, except empty values, such as (), [], {}, \"\", the number 0, and the value None.\n",
    "# And of course the value False evaluates to False.\n",
    "\n",
    "bool(False)\n",
    "bool(None)\n",
    "bool(0)\n",
    "bool(\"\")\n",
    "bool(())\n",
    "bool([])\n",
    "bool({})\n",
    "\n"
   ]
  },
  {
   "cell_type": "code",
   "execution_count": 138,
   "metadata": {},
   "outputs": [
    {
     "name": "stdout",
     "output_type": "stream",
     "text": [
      "False\n",
      "True\n",
      "Yes\n",
      "True\n",
      "False\n"
     ]
    }
   ],
   "source": [
    "# One more value, or object in this case, evaluates to False, and that is if you have an object that is made from a class with a __len__ function that returns 0 or False:\n",
    "\n",
    "class myclass():\n",
    "    def __len__(self):\n",
    "        return 0\n",
    "myobj = myclass()\n",
    "print(bool(myobj))\n",
    "\n",
    "# Functions can return a boolean\n",
    "\n",
    "def myfunc():\n",
    "    return True\n",
    "print(myfunc())\n",
    "\n",
    "# You can execute code based on the Boolean answer of a function\n",
    "\n",
    "def myfunc1():\n",
    "    return True\n",
    "if myfunc1():\n",
    "    print(\"Yes\")\n",
    "else:\n",
    "    print(\"No\")\n",
    "\n",
    "#Python also has many built-in functions that return a boolean value, like the isinstance() function, which can be used to determine if an object is of a certain data type:\n",
    "#Check if an object is an integer or not:\n",
    "\n",
    "x = 200\n",
    "print(isinstance(x,int))\n",
    "print(isinstance(x,str))"
   ]
  },
  {
   "cell_type": "markdown",
   "metadata": {},
   "source": [
    "# OPERATORS\n",
    "\n",
    "Python divides the operators in the following groups:\n",
    "Arithmetic operators\n",
    "Assignment operators\n",
    "Comparison operators\n",
    "Logical operators\n",
    "Identity operators\n",
    "Membership operators\n",
    "Bitwise operators\n",
    "\n",
    "Operator\tName\t            Example\n",
    "+\t        Addition\t        x + y\t\n",
    "-\t        Subtraction\t        x - y\t\n",
    "*\t        Multiplication  \tx * y\t\n",
    "/\t        Division\t        x / y\t\n",
    "%\t        Modulus         \tx % y\t\n",
    "**\t        Exponentiation  \tx ** y\t\n",
    "//\t        Floor division\t    x // y"
   ]
  },
  {
   "cell_type": "markdown",
   "metadata": {},
   "source": []
  }
 ],
 "metadata": {
  "kernelspec": {
   "display_name": "Python 3",
   "language": "python",
   "name": "python3"
  },
  "language_info": {
   "codemirror_mode": {
    "name": "ipython",
    "version": 3
   },
   "file_extension": ".py",
   "mimetype": "text/x-python",
   "name": "python",
   "nbconvert_exporter": "python",
   "pygments_lexer": "ipython3",
   "version": "3.12.1"
  }
 },
 "nbformat": 4,
 "nbformat_minor": 2
}
