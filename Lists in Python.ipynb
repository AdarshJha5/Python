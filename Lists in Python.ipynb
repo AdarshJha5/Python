{
 "cells": [
  {
   "cell_type": "markdown",
   "metadata": {},
   "source": [
    "# Python Collections (Arrays)\n",
    "\n",
    "There are four collection data types in the Python programming language:\n",
    "\n",
    "List is a collection which is ordered and changeable. Allows duplicate members.\n",
    "\n",
    "Tuple is a collection which is ordered and unchangeable. Allows duplicate members.\n",
    "\n",
    "Set is a collection which is unordered, unchangeable*, and unindexed. No duplicate members.\n",
    "\n",
    "Dictionary is a collection which is ordered** and changeable. No duplicate members.\n",
    "\n",
    "*Set items are unchangeable, but you can remove and/or add items whenever you like."
   ]
  },
  {
   "cell_type": "markdown",
   "metadata": {},
   "source": [
    "# Python Lists\n",
    "\n",
    "Lists are used to store multiple items into a single variable\n",
    "\n",
    "Lists are created using square brackets []\n",
    "\n",
    "List items are ordered, changable and allow duplicate values\n",
    "\n",
    "The first item has idex[0] and the second item has index[1]\n"
   ]
  },
  {
   "cell_type": "code",
   "execution_count": 3,
   "metadata": {},
   "outputs": [
    {
     "name": "stdout",
     "output_type": "stream",
     "text": [
      "['Python', 'SQL', 'PowerBi', 'Tableue']\n",
      "<class 'list'>\n"
     ]
    }
   ],
   "source": [
    "# Example\n",
    "\n",
    "thislist = ['Python', 'SQL', 'PowerBi', 'Tableue']\n",
    "print(thislist)\n",
    "print(type(thislist))"
   ]
  },
  {
   "cell_type": "markdown",
   "metadata": {},
   "source": [
    "# Ordered \n",
    "When we say that the listbis ordered, it means that the items have a defined order and the order will not change.\n",
    "If you add new items to a list, the new items will be placed at the end of the list\n",
    "\n",
    "Although, yhere are some list methods that will change the list order\n",
    "\n",
    "Method\t            Description\n",
    "append()\t        Adds an element at the end of the list\n",
    "clear()\t            Removes all the elements from the list\n",
    "copy()\t            Returns a copy of the list\n",
    "count()            \tReturns the number of elements with the specified value\n",
    "extend()\t        Add the elements of a list (or any iterable), to the end of the current list\n",
    "index()\t            Returns the index of the first element with the specified value\n",
    "insert()\t        Adds an element at the specified position\n",
    "pop()\t            Removes the element at the specified position\n",
    "remove()\t        Removes the item with the specified value\n",
    "reverse()\t        Reverses the order of the list\n",
    "sort()\t            Sorts the list"
   ]
  },
  {
   "cell_type": "code",
   "execution_count": 25,
   "metadata": {},
   "outputs": [
    {
     "name": "stdout",
     "output_type": "stream",
     "text": [
      "[1, 5, 3, 2, 5, 8, 3, 9, 10, 11]\n",
      "[1, 5, 3, 2, 5, 8, 3, 9, 10, 11]\n",
      "2\n",
      "[1, 5, 3, 2, 5, 8, 3, 9, 10, 11, 'I', 'am', 'learning', 'lists']\n",
      "[1, 2, 3, 4, 5, 6, 111, 222, 333, 444]\n",
      "0\n",
      "1\n",
      "['Apple', 'Banana', ' Orange']\n",
      "['Apple', 'Banana', 'Watermelon', ' Orange']\n",
      "['Windows', 'MacOS', 'Android', 'Linux']\n",
      "['Windows', 'MacOS', 'Linux']\n",
      "['a', 'b', 'c', 'd', 'e', 'Hey']\n",
      "['a', 'b', 'c', 'd', 'e']\n",
      "[1, 2, 3, 4, 5, 6, 7, 8, 9, 10]\n",
      "[10, 9, 8, 7, 6, 5, 4, 3, 2, 1]\n",
      "[1, 3, 5, 234, 45, 23, 64, 312, 35, 23, 24, 33, 3, 3]\n",
      "[1, 3, 3, 3, 5, 23, 23, 24, 33, 35, 45, 64, 234, 312]\n"
     ]
    }
   ],
   "source": [
    "sample_list_1 = [1,5,3,2,5,8,3,9,10]\n",
    "# Append()\n",
    "sample_list_1.append(11)\n",
    "print(sample_list_1)\n",
    "#Copy()\n",
    "print(sample_list_1.copy())\n",
    "#Count()\n",
    "print(sample_list_1.count(5))\n",
    "#Extend()\n",
    "sample_list_2 = ['I', 'am', 'learning', 'lists']\n",
    "sample_list_1.extend(sample_list_2)\n",
    "print(sample_list_1)\n",
    "var_1 = (111,222,333,444)\n",
    "list_1 = [1,2,3,4,5,6]\n",
    "list_1.extend(var_1)\n",
    "print(list_1)\n",
    "# Index()\n",
    "print(list_1.index(1))\n",
    "print(sample_list_1.index(5))\n",
    "\n",
    "# Insert()\n",
    "fruits = [\"Apple\", \"Banana\", \" Orange\"]\n",
    "print(fruits)\n",
    "fruits.insert(2,\"Watermelon\")\n",
    "print(fruits)\n",
    "\n",
    "# Pop()\n",
    "os = ['Windows', 'MacOS', 'Android', 'Linux']\n",
    "print(os)\n",
    "os.pop(2)\n",
    "print(os)\n",
    "# Remove()\n",
    "alpha = ['a','b',\"c\",\"d\",\"e\",\"Hey\"]\n",
    "print(alpha)\n",
    "alpha.remove('Hey')\n",
    "print(alpha)\n",
    "\n",
    "# Reverse\n",
    "num = [1,2,3,4,5,6,7,8,9,10]\n",
    "print(num)\n",
    "num.reverse()\n",
    "print(num)\n",
    "\n",
    "# Sort\n",
    "rand_num = [1,3,5,234,45,23,64,312,35,23,24,33,3,3]\n",
    "print(rand_num)\n",
    "rand_num.sort()\n",
    "print(rand_num)"
   ]
  },
  {
   "cell_type": "code",
   "execution_count": 29,
   "metadata": {},
   "outputs": [
    {
     "name": "stdout",
     "output_type": "stream",
     "text": [
      "4\n",
      "['Adarsh', 24, 'Male', True, (1+5j)]\n",
      "<class 'list'>\n"
     ]
    }
   ],
   "source": [
    "# List Length\n",
    "os = ['Windows', 'MacOS', 'Android', 'Linux']\n",
    "print(len(os))\n",
    "\n",
    "# A list can contain different data types\n",
    "\n",
    "list_1 = [\"Adarsh\",24,\"Male\",True,1+5j] \n",
    "print(list_1)\n",
    "\n",
    "print(type(os))\n"
   ]
  },
  {
   "cell_type": "code",
   "execution_count": 31,
   "metadata": {},
   "outputs": [
    {
     "name": "stdout",
     "output_type": "stream",
     "text": [
      "['Windows', 1, 2, 3, 4, 5, 6, False]\n",
      "<class 'list'>\n"
     ]
    }
   ],
   "source": [
    "# The list() constructor\n",
    "# It is also possible to use list() constructor whem creating a new list\n",
    "\n",
    "thislist = list((\"Windows\", 1,2,3,4,5,6,False))\n",
    "print(thislist)\n",
    "print(type(thislist))"
   ]
  },
  {
   "cell_type": "code",
   "execution_count": 75,
   "metadata": {},
   "outputs": [
    {
     "name": "stdout",
     "output_type": "stream",
     "text": [
      "['banana', 'cherry', 'orange', 'kiwi', 'melon', 'mango']\n",
      "['cherry', 'orange']\n",
      "['kiwi', 'melon', 'mango']\n"
     ]
    }
   ],
   "source": [
    "# Access List items\n",
    "\n",
    "thislist = [\"apple\", \"banana\", \"cherry\", \"orange\", \"kiwi\", \"melon\", \"mango\"]\n",
    "print(thislist[1:])\n",
    "print(thislist[2:4])\n",
    "print(thislist[-3:])"
   ]
  },
  {
   "cell_type": "code",
   "execution_count": 84,
   "metadata": {},
   "outputs": [
    {
     "name": "stdout",
     "output_type": "stream",
     "text": [
      "['apple', 'banana', 'cherry', 'orange', 'kiwi', 'mango']\n",
      "['apple', 'banana', 'cherry', 'Starwberry', 'kiwi', 'mango']\n",
      " \n",
      "['apple', 'banana', 'Melon', 'berry', 'kiwi', 'mango']\n",
      "\n",
      "[1, 2, 3, 4, 5, 6, 7, 8]\n",
      "[1, 2, 33, 5, 6, 7, 8]\n"
     ]
    }
   ],
   "source": [
    "# Change list items\n",
    "\n",
    "thislist = [\"apple\", \"banana\", \"cherry\", \"orange\", \"kiwi\", \"mango\"]\n",
    "print(thislist)\n",
    "thislist[3] = \"Starwberry\"\n",
    "print(thislist)\n",
    "print(\" \")\n",
    "\n",
    "# Change a range of item values\n",
    "lst = [\"apple\", \"banana\", \"cherry\", \"orange\", \"kiwi\", \"mango\"]\n",
    "lst[2:4] = [\"Melon\", \"berry\"]\n",
    "print(lst)\n",
    "print(\"\")\n",
    "\n",
    "lst2 = [1,2,3,4,5,6,7,8]\n",
    "print(lst2)\n",
    "lst2[2:4] = [33]\n",
    "print(lst2)"
   ]
  },
  {
   "cell_type": "code",
   "execution_count": 68,
   "metadata": {},
   "outputs": [
    {
     "name": "stdout",
     "output_type": "stream",
     "text": [
      "Yes, the word exits\n"
     ]
    }
   ],
   "source": [
    "# Check if items exists in List\n",
    "\n",
    "lst = [\"Hi\",\"I\", \"am\",\"learning\",\"python\"]\n",
    "if \"Hi\" in lst:\n",
    "    print(\"Yes, the word exits\")\n",
    "else:\n",
    "    print(False)"
   ]
  },
  {
   "cell_type": "markdown",
   "metadata": {},
   "source": [
    "# List Comprehensions\n",
    "\n",
    "List comprehensions provide a concise way to create lists. Common applications are to make new lists where each element is the result of some operations applied to each member of another sequence or iterable, or to create a subsequence of those elements that satisfy a certain condition."
   ]
  },
  {
   "cell_type": "code",
   "execution_count": 40,
   "metadata": {},
   "outputs": [
    {
     "name": "stdout",
     "output_type": "stream",
     "text": [
      "[0, 1, 4, 9, 16, 25, 36, 49, 64, 81]\n",
      "[0, 1, 4, 9, 16, 25, 36, 49, 64, 81]\n"
     ]
    }
   ],
   "source": [
    "# For example, assume we want to create a list of squares, like:\n",
    "\n",
    "squares = []\n",
    "for i in range (10):\n",
    "    squares.append(i**2)\n",
    "print(squares)\n",
    "\n",
    "# Note that this creates (or overwrites) a variable named x that still exists after the loop completes. We can calculate the list of squares without any side effects using:\n",
    "\n",
    "squares = [x**2 for x in range(10)]\n",
    "print(squares)"
   ]
  },
  {
   "cell_type": "code",
   "execution_count": 45,
   "metadata": {},
   "outputs": [
    {
     "name": "stdout",
     "output_type": "stream",
     "text": [
      "[(1, 3), (1, 4), (2, 3), (2, 1), (2, 4), (3, 1), (3, 4)]\n",
      "[(1, 3), (1, 4), (2, 3), (2, 1), (2, 4), (3, 1), (3, 4)]\n"
     ]
    }
   ],
   "source": [
    "# Ways 1\n",
    "combs = []\n",
    "\n",
    "for i in [1,2,3]:\n",
    "    for j in [3,1,4]:\n",
    "        if i != j:\n",
    "            combs.append((i,j))\n",
    "print(combs)\n",
    "\n",
    "# Way 2\n",
    "combs = [(i,j) for i in [1,2,3,] for j in [3,1,4] if i!=j]\n",
    "print(combs)"
   ]
  },
  {
   "cell_type": "code",
   "execution_count": 46,
   "metadata": {},
   "outputs": [
    {
     "name": "stdout",
     "output_type": "stream",
     "text": [
      "[7, 14, 21, 28, 35, 42, 49, 56, 63, 70]\n",
      "[7, 14, 21, 28, 35, 42, 49, 56, 63, 70]\n"
     ]
    }
   ],
   "source": [
    "num = int(input(\"Enter the number for which you want the table: \"))\n",
    "\n",
    "table  = []\n",
    "for i in range (1,11):\n",
    "    table.append(i*num)\n",
    "print(table)\n",
    "\n",
    "table = [i*num for i in range(1,11)]\n",
    "print(table)"
   ]
  },
  {
   "cell_type": "code",
   "execution_count": 63,
   "metadata": {},
   "outputs": [
    {
     "name": "stdout",
     "output_type": "stream",
     "text": [
      "[-4, -2, 0, 2, 4]\n",
      "[-8, -4, 0, 4, 8]\n",
      "[0, 2, 4]\n",
      "[4, 2, 0, 2, 4]\n",
      " \n",
      "['Apple', '  Banana  ', ' Orange  ', '   Kiwi   ']\n",
      "['Apple', 'Banana', 'Orange', 'Kiwi']\n",
      "[3.1, 3.14, 3.142, 3.1416, 3.14159, 3.141593]\n"
     ]
    }
   ],
   "source": [
    "vec = [-4,-2,0,2,4]\n",
    "print(vec)\n",
    "# create a new list with the values doubled\n",
    "print([i*2 for i in vec])\n",
    "# filter the list to exclude negative numbers\n",
    "print([i for i in vec if i >=0])\n",
    "# apply a function to all the elements\n",
    "print([abs(i) for i in vec])\n",
    "print(\" \")\n",
    "# call a method on each element\n",
    "fruits = [\"Apple\",\"  Banana  \", \" Orange  \", \"   Kiwi   \"]\n",
    "print(fruits)\n",
    "print([i.strip() for i in fruits] )\n",
    "\n",
    "# List comprehensions can contain complex expressions and nested functions:\n",
    "\n",
    "from math import pi\n",
    "print([str(round(pi,i)) for i in range (1,7)])\n",
    "\n",
    "\n",
    "\n",
    "\n",
    "\n",
    "\n"
   ]
  },
  {
   "cell_type": "markdown",
   "metadata": {},
   "source": [
    "# Loop Lists\n"
   ]
  },
  {
   "cell_type": "code",
   "execution_count": 87,
   "metadata": {},
   "outputs": [
    {
     "name": "stdout",
     "output_type": "stream",
     "text": [
      "apple\n",
      "banana\n",
      "cherry\n",
      "orange\n",
      "kiwi\n",
      "mango\n",
      " \n",
      "apple\n",
      "banana\n",
      "cherry\n",
      "orange\n",
      "kiwi\n",
      "mango\n",
      " \n",
      "apple\n",
      "banana\n",
      "cherry\n",
      "orange\n",
      "kiwi\n",
      "mango\n"
     ]
    }
   ],
   "source": [
    "lst = [\"apple\", \"banana\", \"cherry\", \"orange\", \"kiwi\", \"mango\"]\n",
    "for i in lst:\n",
    "    print(i)\n",
    "print(\" \")\n",
    "for i in range(len(lst)):\n",
    "    print(lst[i])\n",
    "\n",
    "print(\" \")\n",
    "\n",
    "i = 0\n",
    "while i<len(lst):\n",
    "    print(lst[i])\n",
    "    i=i+1"
   ]
  },
  {
   "cell_type": "markdown",
   "metadata": {},
   "source": [
    "# Sort Lists"
   ]
  },
  {
   "cell_type": "code",
   "execution_count": 91,
   "metadata": {},
   "outputs": [
    {
     "name": "stdout",
     "output_type": "stream",
     "text": [
      "['apple', 'banana', 'cherry', 'kiwi', 'mango', 'orange']\n",
      " \n",
      "[23, 50, 65, 82, 100]\n",
      " \n",
      "['orange', 'mango', 'kiwi', 'cherry', 'banana', 'apple']\n"
     ]
    }
   ],
   "source": [
    "lst = [\"apple\", \"banana\", \"cherry\", \"orange\", \"kiwi\", \"mango\"]\n",
    "lst.sort()\n",
    "print(lst)\n",
    "print(\" \")\n",
    "\n",
    "thislist = [100, 50, 65, 82, 23]\n",
    "thislist.sort()\n",
    "print(thislist)\n",
    "print(\" \")\n",
    "\n",
    "# Reverse sort\n",
    "lst1 = [\"apple\", \"banana\", \"cherry\", \"orange\", \"kiwi\", \"mango\"]\n",
    "lst1.sort(reverse=True)\n",
    "print(lst1)\n"
   ]
  },
  {
   "cell_type": "code",
   "execution_count": 92,
   "metadata": {},
   "outputs": [
    {
     "name": "stdout",
     "output_type": "stream",
     "text": [
      "[50, 65, 23, 82, 100]\n"
     ]
    }
   ],
   "source": [
    "def myfunc(n):\n",
    "    return abs(n-50)\n",
    "thislist = [100, 50, 65, 82, 23]\n",
    "thislist.sort(key=myfunc)\n",
    "print(thislist)\n",
    "\n",
    "# # Steps by step code run comparison\n",
    "# abs(n-50) will give 50,0,15,32,27\n",
    "# now key sort will sort the above list as 0,15,27,32,50\n",
    "# Now it will comapare to the original list and give the sorted list\n",
    "# 50,65,23,82,100\n",
    "\n"
   ]
  },
  {
   "cell_type": "code",
   "execution_count": 99,
   "metadata": {},
   "outputs": [
    {
     "name": "stdout",
     "output_type": "stream",
     "text": [
      "['Kiwi', 'Orange', 'banana', 'cherry']\n",
      "['', '@', 'Kiwi', 'Orange', 'banana', 'cherry']\n"
     ]
    }
   ],
   "source": [
    "# By default the sort() method is case sensitive, resulting in all capital letters being sorted before lower case letters:\n",
    "\n",
    "thislist = [\"banana\", \"Orange\", \"Kiwi\", \"cherry\"]\n",
    "thislist.sort()\n",
    "print(thislist)\n",
    "\n",
    "thislist1 = [\"banana\", \"Orange\", \"Kiwi\", \"cherry\",\"@\",\"\"]\n",
    "thislist1.sort()\n",
    "print(thislist1)\n"
   ]
  }
 ],
 "metadata": {
  "kernelspec": {
   "display_name": "Python 3",
   "language": "python",
   "name": "python3"
  },
  "language_info": {
   "codemirror_mode": {
    "name": "ipython",
    "version": 3
   },
   "file_extension": ".py",
   "mimetype": "text/x-python",
   "name": "python",
   "nbconvert_exporter": "python",
   "pygments_lexer": "ipython3",
   "version": "3.12.1"
  }
 },
 "nbformat": 4,
 "nbformat_minor": 2
}
